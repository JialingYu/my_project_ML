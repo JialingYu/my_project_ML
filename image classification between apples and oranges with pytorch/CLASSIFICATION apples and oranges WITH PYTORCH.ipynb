{
 "cells": [
  {
   "cell_type": "markdown",
   "id": "f0fea0fc-b274-4506-a2e1-d8d02aa7988f",
   "metadata": {},
   "source": [
    "# Classify apple and orange images"
   ]
  },
  {
   "cell_type": "code",
   "execution_count": 42,
   "id": "82c9a73a-d97e-4fa7-a3b7-137b99b3d471",
   "metadata": {},
   "outputs": [],
   "source": [
    "import matplotlib.pyplot as plt\n",
    "import numpy as np\n",
    "import torch\n",
    "import torch.nn as nn\n",
    "from torch import optim\n",
    "import torch.nn.functional as F\n",
    "import datetime"
   ]
  },
  {
   "cell_type": "markdown",
   "id": "49a5c2a4-f9b9-4c87-ba1f-6e40fa71f584",
   "metadata": {},
   "source": [
    "# 1. create a dataset\n",
    "## 1.0 download the training and validation dataset and transform them to tensor.\n"
   ]
  },
  {
   "cell_type": "code",
   "execution_count": 43,
   "id": "fbb20fe5-c876-45b2-91d5-a2b2e0832c19",
   "metadata": {},
   "outputs": [
    {
     "name": "stdout",
     "output_type": "stream",
     "text": [
      "Files already downloaded and verified\n"
     ]
    }
   ],
   "source": [
    "from torchvision import datasets\n",
    "from torchvision import transforms\n",
    "datapath = './data'\n",
    "#download the training data set \n",
    "CIFAR100=datasets.CIFAR100(root=datapath,train=True,download=True)"
   ]
  },
  {
   "cell_type": "code",
   "execution_count": 44,
   "id": "041088a5-2aec-438f-800e-ef21f7d54b92",
   "metadata": {},
   "outputs": [
    {
     "data": {
      "text/plain": [
       "PIL.Image.Image"
      ]
     },
     "execution_count": 44,
     "metadata": {},
     "output_type": "execute_result"
    }
   ],
   "source": [
    "img,_=CIFAR100[0]\n",
    "type(img)"
   ]
  },
  {
   "cell_type": "code",
   "execution_count": 45,
   "id": "07391702-5943-4c8d-b2b0-4e56ec2bb002",
   "metadata": {},
   "outputs": [
    {
     "data": {
      "image/png": "[encoded data removed]",
      "text/plain": [
       "<Figure size 200x200 with 1 Axes>"
      ]
     },
     "metadata": {},
     "output_type": "display_data"
    }
   ],
   "source": [
    "fig=plt.figure(figsize=(2,2))\n",
    "plt.imshow(img)\n",
    "plt.show()"
   ]
  },
  {
   "cell_type": "code",
   "execution_count": 46,
   "id": "7b5b0980-4e78-4f5e-8b0b-b23f6f7b7a4f",
   "metadata": {},
   "outputs": [
    {
     "name": "stdout",
     "output_type": "stream",
     "text": [
      "Files already downloaded and verified\n"
     ]
    }
   ],
   "source": [
    "#download the training data and normalize the PIL.Image as tensor\n",
    "CIFAR100_t=datasets.CIFAR100(root=datapath,train=True,download=True,transform=transforms.ToTensor())"
   ]
  },
  {
   "cell_type": "code",
   "execution_count": 47,
   "id": "9741d713-ebad-4501-9ab2-59f864f14d5d",
   "metadata": {},
   "outputs": [
    {
     "data": {
      "text/plain": [
       "Dataset CIFAR100\n",
       "    Number of datapoints: 50000\n",
       "    Root location: ./data\n",
       "    Split: Train\n",
       "    StandardTransform\n",
       "Transform: ToTensor()"
      ]
     },
     "execution_count": 47,
     "metadata": {},
     "output_type": "execute_result"
    }
   ],
   "source": [
    "CIFAR100_t"
   ]
  },
  {
   "cell_type": "code",
   "execution_count": 48,
   "id": "e062a319-6ef6-4761-9698-a75d3081fea4",
   "metadata": {},
   "outputs": [],
   "source": [
    "img1,label1=CIFAR100_t[0]"
   ]
  },
  {
   "cell_type": "code",
   "execution_count": 49,
   "id": "c37cbffa-14d5-474b-901b-36baaa5d58a8",
   "metadata": {},
   "outputs": [
    {
     "data": {
      "text/plain": [
       "(torch.Tensor, torch.Size([3, 32, 32]), torch.float32, 19)"
      ]
     },
     "execution_count": 49,
     "metadata": {},
     "output_type": "execute_result"
    }
   ],
   "source": [
    "type(img1),img1.shape, img1.dtype, label1"
   ]
  },
  {
   "cell_type": "code",
   "execution_count": 50,
   "id": "861c91b4-7440-4bb0-9ee6-99769b895524",
   "metadata": {},
   "outputs": [
    {
     "data": {
      "text/plain": [
       "(tensor(0.0039), tensor(1.))"
      ]
     },
     "execution_count": 50,
     "metadata": {},
     "output_type": "execute_result"
    }
   ],
   "source": [
    "#transforms.ToTensor() scale the img1 into range [0,1]\n",
    "img1.min(), img1.max()"
   ]
  },
  {
   "cell_type": "code",
   "execution_count": 51,
   "id": "482d48d7-7c6d-4cf2-a2f6-4b24206bf5fc",
   "metadata": {},
   "outputs": [
    {
     "data": {
      "image/png": "[encoded data removed]",
      "text/plain": [
       "<Figure size 200x200 with 1 Axes>"
      ]
     },
     "metadata": {},
     "output_type": "display_data"
    }
   ],
   "source": [
    "#permute the tensor from C*H*W to H*W*C to match matplotlib\n",
    "fig=plt.figure(figsize=(2,2))\n",
    "plt.imshow(img1.permute(1,2,0))\n",
    "plt.show()"
   ]
  },
  {
   "cell_type": "markdown",
   "id": "98e2f7c8-67b2-4a6d-aa24-1a112cb77209",
   "metadata": {},
   "source": [
    "## 1.1 compute the mean and std of each channel of all the images; use them to normalize each channel"
   ]
  },
  {
   "cell_type": "code",
   "execution_count": 52,
   "id": "870e366f-9824-471d-b74b-057b3f94fc9d",
   "metadata": {},
   "outputs": [
    {
     "data": {
      "text/plain": [
       "torch.Size([3, 32, 32, 50000])"
      ]
     },
     "execution_count": 52,
     "metadata": {},
     "output_type": "execute_result"
    }
   ],
   "source": [
    "#stack all the images together at dimension 3\n",
    "img_all = torch.stack([img for img, label in CIFAR100_t], dim=3)\n",
    "img_all.shape"
   ]
  },
  {
   "cell_type": "code",
   "execution_count": 53,
   "id": "16ba9334-c3a4-489a-9cec-4c6e5ff98c9b",
   "metadata": {},
   "outputs": [],
   "source": [
    "#compute the mean and std for each channel\n",
    "mean=img_all.view(3,-1).mean(dim=1)\n",
    "std=img_all.view(3,-1).std(dim=1)"
   ]
  },
  {
   "cell_type": "code",
   "execution_count": 54,
   "id": "e6aeefea-3132-4ff9-b10c-6683899e604a",
   "metadata": {},
   "outputs": [
    {
     "name": "stdout",
     "output_type": "stream",
     "text": [
      "Files already downloaded and verified\n",
      "Files already downloaded and verified\n"
     ]
    }
   ],
   "source": [
    "#normalize each channel to have zero mean and 1 std\n",
    "#create the training and validation data set\n",
    "CIFAR100_t_u=datasets.CIFAR100(root=datapath,train=True,download=True,transform=transforms.Compose(\n",
    "    [transforms.ToTensor(),\n",
    "     transforms.Normalize(mean=mean,std=std)]))\n",
    "\n",
    "CIFAR100_t_u_val=datasets.CIFAR100(root=datapath,train=False,download=True,transform=transforms.Compose(\n",
    "    [transforms.ToTensor(),\n",
    "     transforms.Normalize(mean=mean,std=std)]))"
   ]
  },
  {
   "cell_type": "code",
   "execution_count": 55,
   "id": "72086354-5a31-4cbf-8af5-7c5ecd00785c",
   "metadata": {},
   "outputs": [
    {
     "data": {
      "text/plain": [
       "(tensor(-1.7903), tensor(2.0246), 19)"
      ]
     },
     "execution_count": 55,
     "metadata": {},
     "output_type": "execute_result"
    }
   ],
   "source": [
    "img,label=CIFAR100_t_u[0]\n",
    "img.min(), img.max(), label"
   ]
  },
  {
   "cell_type": "code",
   "execution_count": 56,
   "id": "888ccdc3-7f89-4fbf-8a88-00fe749425f8",
   "metadata": {},
   "outputs": [
    {
     "name": "stderr",
     "output_type": "stream",
     "text": [
      "Clipping input data to the valid range for imshow with RGB data ([0..1] for floats or [0..255] for integers). Got range [-1.790285..2.0245562].\n"
     ]
    },
    {
     "data": {
      "image/png": "[encoded data removed]",
      "text/plain": [
       "<Figure size 200x200 with 1 Axes>"
      ]
     },
     "metadata": {},
     "output_type": "display_data"
    }
   ],
   "source": [
    "#plot the normalized image\n",
    "fig=plt.figure(figsize=(2,2))\n",
    "plt.imshow(img.permute(1,2,0))\n",
    "plt.show()"
   ]
  },
  {
   "cell_type": "code",
   "execution_count": 57,
   "id": "fd4ce1d5-d897-46ea-a1b8-078b3d317829",
   "metadata": {},
   "outputs": [
    {
     "data": {
      "text/plain": [
       "19"
      ]
     },
     "execution_count": 57,
     "metadata": {},
     "output_type": "execute_result"
    }
   ],
   "source": [
    "CIFAR100_t_u[0][1]"
   ]
  },
  {
   "cell_type": "code",
   "execution_count": 58,
   "id": "d31f660e-e5b7-4771-8567-04ef399ca27e",
   "metadata": {},
   "outputs": [
    {
     "data": {
      "text/plain": [
       "93"
      ]
     },
     "execution_count": 58,
     "metadata": {},
     "output_type": "execute_result"
    }
   ],
   "source": [
    "CIFAR100_t_u[99][1]"
   ]
  },
  {
   "cell_type": "code",
   "execution_count": 59,
   "id": "ba245187-29c2-4913-b0c4-6e3cdc5fc73d",
   "metadata": {},
   "outputs": [
    {
     "data": {
      "text/plain": [
       "Dataset CIFAR100\n",
       "    Number of datapoints: 10000\n",
       "    Root location: ./data\n",
       "    Split: Test\n",
       "    StandardTransform\n",
       "Transform: Compose(\n",
       "               ToTensor()\n",
       "               Normalize(mean=tensor([0.5071, 0.4865, 0.4409]), std=tensor([0.2673, 0.2564, 0.2762]))\n",
       "           )"
      ]
     },
     "execution_count": 59,
     "metadata": {},
     "output_type": "execute_result"
    }
   ],
   "source": [
    "CIFAR100_t_u_val"
   ]
  },
  {
   "cell_type": "code",
   "execution_count": 60,
   "id": "e4ad4404-b428-4243-aef3-9c1ba6e562f5",
   "metadata": {},
   "outputs": [],
   "source": [
    "# subset a dataset\n",
    "# 0 label is for apple, 53 label is for orange\n",
    "#map the label from 0,53 to 0, 1\n",
    "label_map={0:0,53:1}\n",
    "data_train = [(img, label_map[label]) for img, label in CIFAR100_t_u if label in [0,53]]\n",
    "data_val = [(img, label_map[label]) for img, label in CIFAR100_t_u_val if label in [0,53]]"
   ]
  },
  {
   "cell_type": "code",
   "execution_count": 61,
   "id": "e3c21fdf-7610-4c66-996a-0ad7f592c231",
   "metadata": {},
   "outputs": [
    {
     "data": {
      "text/plain": [
       "(1000, 200)"
      ]
     },
     "execution_count": 61,
     "metadata": {},
     "output_type": "execute_result"
    }
   ],
   "source": [
    "len(data_train), len(data_val)"
   ]
  },
  {
   "cell_type": "code",
   "execution_count": 62,
   "id": "5f75a9c0-ec51-4b02-857b-bf9764c719ab",
   "metadata": {},
   "outputs": [
    {
     "name": "stderr",
     "output_type": "stream",
     "text": [
      "Clipping input data to the valid range for imshow with RGB data ([0..1] for floats or [0..255] for integers). Got range [-1.596658..2.0245562].\n"
     ]
    },
    {
     "data": {
      "image/png": "[encoded data removed]",
      "text/plain": [
       "<Figure size 200x200 with 1 Axes>"
      ]
     },
     "metadata": {},
     "output_type": "display_data"
    }
   ],
   "source": [
    "fig=plt.figure(figsize=(2,2))\n",
    "img1=data_train[2][0]\n",
    "label1=data_train[2][1]\n",
    "plt.imshow(img1.permute(1,2,0))\n",
    "plt.show()"
   ]
  },
  {
   "cell_type": "code",
   "execution_count": 63,
   "id": "6a29c846-57bd-4a9c-b3ee-20028a6bd341",
   "metadata": {},
   "outputs": [
    {
     "name": "stderr",
     "output_type": "stream",
     "text": [
      "Clipping input data to the valid range for imshow with RGB data ([0..1] for floats or [0..255] for integers). Got range [-1.596658..2.002239].\n"
     ]
    },
    {
     "data": {
      "image/png": "[encoded data removed]",
      "text/plain": [
       "<Figure size 200x200 with 1 Axes>"
      ]
     },
     "metadata": {},
     "output_type": "display_data"
    }
   ],
   "source": [
    "fig=plt.figure(figsize=(2,2))\n",
    "img2=data_train[1][0]\n",
    "label2=data_train[1][1]\n",
    "plt.imshow(img2.permute(1,2,0))\n",
    "plt.show()"
   ]
  },
  {
   "cell_type": "code",
   "execution_count": 64,
   "id": "daa768e3-b23d-4779-a6f8-d2c457536821",
   "metadata": {},
   "outputs": [
    {
     "data": {
      "text/plain": [
       "(1000, 200)"
      ]
     },
     "execution_count": 64,
     "metadata": {},
     "output_type": "execute_result"
    }
   ],
   "source": [
    "len(data_train),len(data_val)"
   ]
  },
  {
   "cell_type": "code",
   "execution_count": 97,
   "id": "571b0a13-ce96-4ba8-90d5-bdeeab830eef",
   "metadata": {},
   "outputs": [
    {
     "name": "stderr",
     "output_type": "stream",
     "text": [
      "Clipping input data to the valid range for imshow with RGB data ([0..1] for floats or [0..255] for integers). Got range [-1.4385589..1.9563618].\n",
      "Clipping input data to the valid range for imshow with RGB data ([0..1] for floats or [0..255] for integers). Got range [-1.596658..2.002239].\n",
      "Clipping input data to the valid range for imshow with RGB data ([0..1] for floats or [0..255] for integers). Got range [-1.596658..2.0245562].\n",
      "Clipping input data to the valid range for imshow with RGB data ([0..1] for floats or [0..255] for integers). Got range [-1.5398546..1.7998446].\n",
      "Clipping input data to the valid range for imshow with RGB data ([0..1] for floats or [0..255] for integers). Got range [-1.596658..1.7998446].\n",
      "Clipping input data to the valid range for imshow with RGB data ([0..1] for floats or [0..255] for integers). Got range [-1.5447233..1.8399453].\n",
      "Clipping input data to the valid range for imshow with RGB data ([0..1] for floats or [0..255] for integers). Got range [-1.897332..1.8493147].\n",
      "Clipping input data to the valid range for imshow with RGB data ([0..1] for floats or [0..255] for integers). Got range [-1.6832379..1.783142].\n",
      "Clipping input data to the valid range for imshow with RGB data ([0..1] for floats or [0..255] for integers). Got range [-1.896783..2.002239].\n",
      "Clipping input data to the valid range for imshow with RGB data ([0..1] for floats or [0..255] for integers). Got range [-1.790285..1.7973428].\n",
      "Clipping input data to the valid range for imshow with RGB data ([0..1] for floats or [0..255] for integers). Got range [-1.8820395..1.843852].\n",
      "Clipping input data to the valid range for imshow with RGB data ([0..1] for floats or [0..255] for integers). Got range [-1.6679455..1.741168].\n",
      "Clipping input data to the valid range for imshow with RGB data ([0..1] for floats or [0..255] for integers). Got range [-1.897332..2.0245562].\n",
      "Clipping input data to the valid range for imshow with RGB data ([0..1] for floats or [0..255] for integers). Got range [-1.5398546..2.0245562].\n",
      "Clipping input data to the valid range for imshow with RGB data ([0..1] for floats or [0..255] for integers). Got range [-1.596658..2.0245562].\n",
      "Clipping input data to the valid range for imshow with RGB data ([0..1] for floats or [0..255] for integers). Got range [-1.3620968..2.0245562].\n",
      "Clipping input data to the valid range for imshow with RGB data ([0..1] for floats or [0..255] for integers). Got range [-1.897332..1.8291829].\n",
      "Clipping input data to the valid range for imshow with RGB data ([0..1] for floats or [0..255] for integers). Got range [-1.5540555..2.0245562].\n",
      "Clipping input data to the valid range for imshow with RGB data ([0..1] for floats or [0..255] for integers). Got range [-1.897332..1.3744391].\n",
      "Clipping input data to the valid range for imshow with RGB data ([0..1] for floats or [0..255] for integers). Got range [-1.897332..1.9563618].\n"
     ]
    },
    {
     "data": {
      "image/png": "[encoded data removed]",
      "text/plain": [
       "<Figure size 1000x600 with 20 Axes>"
      ]
     },
     "metadata": {},
     "output_type": "display_data"
    }
   ],
   "source": [
    "#plot some of the training images\n",
    "fig = plt.figure(figsize=(10,6))\n",
    "num_classes=2\n",
    "label_map = {0:'apple',1:'orange'}\n",
    "i=0\n",
    "for img_la in data_train:\n",
    "    if img_la[1] in [0,1] and i<20:\n",
    "        ax=fig.add_subplot(7,5,1+i)\n",
    "        plt.imshow(img_la[0].permute(1,2,0))\n",
    "        i+=1\n",
    "plt.show()"
   ]
  },
  {
   "cell_type": "markdown",
   "id": "58657bba-3bb2-4f00-b9f6-831899deb313",
   "metadata": {},
   "source": [
    "# 2. create a fully connected neural network for classification\n",
    "We first built a simple fully connected neural network to classify apple and orange and train it using stochatic gradient descent. The learning rate, batch size are the hyperparameters we need to adjust.\n",
    "\n",
    "Since simple fully connected neural network only accept 1 dimensional input and the images are 3 dimensional, we need to convert the image into 1 dimension."
   ]
  },
  {
   "cell_type": "markdown",
   "id": "3dbce477-dd02-4009-aca8-400c23a593aa",
   "metadata": {},
   "source": [
    "## 2.0 build and train a fully connected model"
   ]
  },
  {
   "cell_type": "code",
   "execution_count": 65,
   "id": "8ad953b4-5c40-46b0-8961-bc159098ca62",
   "metadata": {},
   "outputs": [
    {
     "data": {
      "text/plain": [
       "torch.Size([3072])"
      ]
     },
     "execution_count": 65,
     "metadata": {},
     "output_type": "execute_result"
    }
   ],
   "source": [
    "#compute the input size\n",
    "img1.view(-1).shape"
   ]
  },
  {
   "cell_type": "code",
   "execution_count": 66,
   "id": "4021845f-5ac0-456c-a790-86dae2183998",
   "metadata": {},
   "outputs": [],
   "source": [
    "#create a training dataloader with batch size 64\n",
    "train_loader= torch.utils.data.DataLoader(data_train,batch_size=64,shuffle=True)\n",
    "#create a linear model with 2 linear layers\n",
    "model_connected =nn.Sequential(\n",
    "    nn.Linear(3072,512),\n",
    "    #number of params=3072*512+512=157,3376\n",
    "    nn.Tanh(),\n",
    "    nn.Linear(512,2),\n",
    "    #number of params=512*2+2=1026\n",
    "    #total params=157,4402\n",
    "    nn.LogSoftmax(dim=1))\n",
    "\n",
    "#nn.LogSoftmax + nn.NLLLoss = nn.CrossEntropyLoss"
   ]
  },
  {
   "cell_type": "code",
   "execution_count": 67,
   "id": "7051f0d1-2ff6-414e-a0e8-2114d9580668",
   "metadata": {},
   "outputs": [
    {
     "name": "stdout",
     "output_type": "stream",
     "text": [
      "[1572864, 512, 1024, 2] 1574402 [1572864, 512, 1024, 2] 1574402\n"
     ]
    }
   ],
   "source": [
    "# check how many trainable params our model has\n",
    "numel_list_train = [p.numel() for p in model_connected.parameters() if p.requires_grad==True]\n",
    "numel_list_all = [p.numel() for p in model_connected.parameters()]\n",
    "params_train_sum=sum(numel_list_train)\n",
    "params_sum=sum(numel_list_all)\n",
    "print(numel_list_train, params_train_sum, numel_list_all, params_sum)"
   ]
  },
  {
   "cell_type": "markdown",
   "id": "f73fea70-82f1-4715-9e6f-4802128930ac",
   "metadata": {},
   "source": [
    "We can see that our fully connected neural network has 1.5 million parameters, which is a huge number, indicating the possibility of overfitting. In addition, the number goes higher as we have more pixels. This means our neural network won't scale very well with the number of pixels."
   ]
  },
  {
   "cell_type": "code",
   "execution_count": 68,
   "id": "2aa7e3c7-31aa-4a62-9cad-9ecfd0310499",
   "metadata": {},
   "outputs": [
    {
     "name": "stdout",
     "output_type": "stream",
     "text": [
      "current epoch: 0, current loss: 0.5369622111320496.\n",
      "current epoch: 1, current loss: 0.5283557772636414.\n",
      "current epoch: 2, current loss: 0.6134058833122253.\n",
      "current epoch: 3, current loss: 0.32684949040412903.\n",
      "current epoch: 10, current loss: 0.3330150842666626.\n",
      "current epoch: 20, current loss: 0.1563737988471985.\n",
      "current epoch: 30, current loss: 0.18720440566539764.\n",
      "current epoch: 40, current loss: 0.1333232820034027.\n",
      "current epoch: 50, current loss: 0.11958248913288116.\n",
      "current epoch: 60, current loss: 0.05135604739189148.\n",
      "current epoch: 70, current loss: 0.02802063152194023.\n",
      "current epoch: 80, current loss: 0.030745401978492737.\n",
      "current epoch: 90, current loss: 0.0270228274166584.\n",
      "current epoch: 100, current loss: 0.027988914400339127.\n",
      "current epoch: 110, current loss: 0.026880186051130295.\n",
      "current epoch: 120, current loss: 0.01567985676229.\n",
      "current epoch: 130, current loss: 0.017322003841400146.\n",
      "current epoch: 140, current loss: 0.012549817562103271.\n",
      "current epoch: 150, current loss: 0.018607590347528458.\n",
      "current epoch: 160, current loss: 0.007980134338140488.\n",
      "current epoch: 170, current loss: 0.010594657622277737.\n",
      "current epoch: 180, current loss: 0.006333895027637482.\n",
      "current epoch: 190, current loss: 0.009806816466152668.\n",
      "current epoch: 200, current loss: 0.005847304128110409.\n"
     ]
    }
   ],
   "source": [
    "#start training, update the parameters for each batch\n",
    "loss_fn=nn.NLLLoss()\n",
    "learning_rate=1e-2\n",
    "optimizer=optim.SGD(model_connected.parameters(),lr=learning_rate)\n",
    "n_epochs=200\n",
    "for epoch in range(n_epochs+1):\n",
    "    for images, labels in train_loader:\n",
    "        batch_size=images.shape[0]\n",
    "        #reshape the images into batch_size*others for linear model\n",
    "        outs=model_connected(images.view(batch_size,-1))\n",
    "        #default reduction=mean is computing the averaging loss across the whole batch\n",
    "        loss=loss_fn(outs,labels)\n",
    "        #set the grads of the parameters to be zero\n",
    "        optimizer.zero_grad()\n",
    "        #compute the gradients using loss\n",
    "        loss.backward()\n",
    "        #update the params using current grads\n",
    "        optimizer.step()\n",
    "    if epoch in [0,1,2,3] or epoch % 10 == 0:\n",
    "        print(f'current epoch: {epoch}, current loss: {loss}.')"
   ]
  },
  {
   "cell_type": "code",
   "execution_count": 69,
   "id": "6f559920-600b-408f-abf0-faf047d320a2",
   "metadata": {},
   "outputs": [
    {
     "name": "stdout",
     "output_type": "stream",
     "text": [
      "train accuracy: 1.000.\n",
      "validation accuracy: 0.978.\n"
     ]
    }
   ],
   "source": [
    "#define the training and validation loader\n",
    "train_loader=torch.utils.data.DataLoader(data_train, batch_size=64, shuffle=False)\n",
    "val_loader=torch.utils.data.DataLoader(data_val, batch_size=64, shuffle=False)\n",
    "\n",
    "#compute the accuracy\n",
    "correct,total=0,0\n",
    "#compute accuracy  for training and validation respectively\n",
    "    \n",
    "for name, loader in [('train', train_loader),('validation',val_loader)]:\n",
    "#we do not redquire pytorch to track the gradients of the parameter tensors\n",
    "    with torch.no_grad():\n",
    "        for imgs, labels in loader:\n",
    "            batch_size=imgs.shape[0]\n",
    "            outs=model_connected(imgs.view(batch_size,-1))\n",
    "            predicted_values,predicted_labels=torch.max(outs,dim=1)\n",
    "            correct += int((predicted_labels==labels).sum())\n",
    "            total+=batch_size\n",
    "        print(f'{name} accuracy: {correct/total:.3f}.')"
   ]
  },
  {
   "cell_type": "markdown",
   "id": "5d028a74-2783-4861-b7af-f11e11d3654e",
   "metadata": {},
   "source": [
    "## 2.1 Analysis of the model\n",
    "\n",
    "We can see that the training accuracy is 1.0 and the validation accuracy is 0.977, which means we are overfitting the model to the training data. We can try using a larger fully connected model to see whether it improve the performance on the validation set."
   ]
  },
  {
   "cell_type": "code",
   "execution_count": 70,
   "id": "0b976826-b1c4-47f9-aa40-12d17f30ead9",
   "metadata": {},
   "outputs": [
    {
     "data": {
      "text/plain": [
       "<Figure size 1000x600 with 0 Axes>"
      ]
     },
     "metadata": {},
     "output_type": "display_data"
    }
   ],
   "source": [
    "label_map={0:'apple',1:'orange'}\n",
    "fig = plt.figure(figsize=(10,6))\n",
    "count=10\n",
    "#for i in range(count):\n",
    "    #ax=fig.add_subplot(2,5,1+i)\n",
    "    #img=next(img for img, label in "
   ]
  },
  {
   "cell_type": "markdown",
   "id": "9be1bf9a-6e62-463b-9cf1-3f163eb8c497",
   "metadata": {},
   "source": [
    "## 2.2 A larger fully connected model"
   ]
  },
  {
   "cell_type": "code",
   "execution_count": 71,
   "id": "9aa82d8b-fb6c-4b0b-9bfb-f49d1c58ff75",
   "metadata": {},
   "outputs": [],
   "source": [
    "#build a larger model with one more linear layer\n",
    "#taper the number of features more gently towards the output\n",
    "#in the hope that the intermediate layer will do a better job at squeezing information through the increasing shorter intermediate outputs\n",
    "model_connected_2=nn.Sequential(\n",
    "    nn.Linear(3072,1024),\n",
    "    nn.Tanh(),\n",
    "    nn.Linear(1024,512),\n",
    "    nn.Tanh(),\n",
    "    nn.Linear(512,2))\n",
    "#we do not use the nn.LogSoftmax() layer, thus the output is logits"
   ]
  },
  {
   "cell_type": "code",
   "execution_count": 72,
   "id": "ca97b502-c118-4e1f-9346-e22093cc717c",
   "metadata": {},
   "outputs": [
    {
     "name": "stdout",
     "output_type": "stream",
     "text": [
      "[3145728, 1024, 524288, 512, 1024, 2] 3672578\n"
     ]
    }
   ],
   "source": [
    "#compute the number of parameters\n",
    "params_list = [p.numel() for p in model_connected_2.parameters()]\n",
    "params_sum = sum(params_list)\n",
    "print(params_list, params_sum)"
   ]
  },
  {
   "cell_type": "code",
   "execution_count": 73,
   "id": "85059403-f0da-49a7-8aea-8f8d5b0b31ea",
   "metadata": {},
   "outputs": [
    {
     "name": "stdout",
     "output_type": "stream",
     "text": [
      "current epoch 0; current loss 0.49818238615989685.\n",
      "current epoch 1; current loss 0.45661765336990356.\n",
      "current epoch 2; current loss 0.4401741921901703.\n",
      "current epoch 3; current loss 0.4302392899990082.\n",
      "current epoch 10; current loss 0.37454739212989807.\n",
      "current epoch 20; current loss 0.2553800940513611.\n",
      "current epoch 30; current loss 0.1419675648212433.\n",
      "current epoch 40; current loss 0.06946908682584763.\n",
      "current epoch 50; current loss 0.03584678843617439.\n",
      "current epoch 60; current loss 0.02339567244052887.\n",
      "current epoch 70; current loss 0.015234063379466534.\n",
      "current epoch 80; current loss 0.01022881455719471.\n",
      "current epoch 90; current loss 0.007347954902797937.\n",
      "current epoch 100; current loss 0.0055707478895783424.\n",
      "current epoch 110; current loss 0.004397649317979813.\n",
      "current epoch 120; current loss 0.003580376971513033.\n",
      "current epoch 130; current loss 0.0029860869981348515.\n",
      "current epoch 140; current loss 0.002538961824029684.\n",
      "current epoch 150; current loss 0.002193294931203127.\n",
      "current epoch 160; current loss 0.0019200786482542753.\n",
      "current epoch 170; current loss 0.0016999843064695597.\n",
      "current epoch 180; current loss 0.0015198172768577933.\n",
      "current epoch 190; current loss 0.0013702081050723791.\n"
     ]
    }
   ],
   "source": [
    "#train the model using the same data loader and learning rate\n",
    "learning_rate=1e-2\n",
    "loss_fn = nn.CrossEntropyLoss()\n",
    "optimizer=optim.SGD(model_connected_2.parameters(),lr=learning_rate)\n",
    "epochs=200\n",
    "\n",
    "for epoch in range(epochs):\n",
    "    for imgs, labels in train_loader:\n",
    "        batch_size=imgs.shape[0]\n",
    "        outs=model_connected_2(imgs.view(batch_size,-1))\n",
    "        #outs is of shape (batch_size*2) and are logits\n",
    "        loss = loss_fn(outs,labels)\n",
    "        #set the gradients to be zero\n",
    "        optimizer.zero_grad()\n",
    "        #compute the gradients\n",
    "        loss.backward()\n",
    "        #update the gradients\n",
    "        optimizer.step()\n",
    "    if epoch in [0,1,2,3] or epoch % 10 == 0:\n",
    "        print(f'current epoch {epoch}; current loss {loss}.')"
   ]
  },
  {
   "cell_type": "code",
   "execution_count": 74,
   "id": "330eb086-4861-47a5-8271-7f61d5837fd1",
   "metadata": {},
   "outputs": [
    {
     "name": "stdout",
     "output_type": "stream",
     "text": [
      "train accuracy: 1.000.\n",
      "validation accuracy: 0.978.\n"
     ]
    }
   ],
   "source": [
    "#define the training and validation loader\n",
    "train_loader=torch.utils.data.DataLoader(data_train, batch_size=64, shuffle=False)\n",
    "val_loader=torch.utils.data.DataLoader(data_val, batch_size=64, shuffle=False)\n",
    "\n",
    "#compute the accuracy\n",
    "correct,total=0,0\n",
    "#compute accuracy  for training and validation respectively\n",
    "    \n",
    "for name, loader in [('train', train_loader),('validation',val_loader)]:\n",
    "#we do not redquire pytorch to track the gradients of the parameter tensors\n",
    "    with torch.no_grad():\n",
    "        for imgs, labels in loader:\n",
    "            batch_size=imgs.shape[0]\n",
    "            outs=model_connected_2(imgs.view(batch_size,-1))\n",
    "            predicted_values,predicted_labels=torch.max(outs,dim=1)\n",
    "            correct += int((predicted_labels==labels).sum())\n",
    "            total+=batch_size\n",
    "        print(f'{name} accuracy: {correct/total:.3f}.')"
   ]
  },
  {
   "cell_type": "markdown",
   "id": "3a1c6526-b096-474e-a5fc-f8c7c77ebed4",
   "metadata": {},
   "source": [
    "## 2.3 The limits of fully connected model\n",
    "\n",
    "- On one hand, the fully connected model allows for the combination of any pixel with every other pixel in the image. These pixels might or might not be relevant. On the other hand, since the model treating the 2D images as 1D vectors, it does not utilize the spatial relation of pixels, i.e., whether they are neighboring or far away in space.\n",
    "- The fully connected model has a huge number of parameters and can easily overfit a simple problem with few inputs.\n",
    "- Using fully connected model for image classification does not scale well as the number of input pixels increase, since more input pixels lead to more parameters.\n",
    "- The fully connected model is not translation invariant, i.e., if we translate the images in some ways, the model would not recognize the image. This is because the model reshapes the 2D input into 1D vector and thus ignores the 2D spatial relation of the pixels. To solve this, we can either\n",
    "    - augument each input images -- apply random translations to the images during training, so that the model has the chance to learn the translation. But this augumentation strategy requires that the the number of hidden features(parameters) is large enough to store the information of all the translated replicas.\n",
    "    - use convolution neural network to utilize the 2D spatial relation of the image."
   ]
  },
  {
   "cell_type": "markdown",
   "id": "be3f8cc8-3ae8-42ff-ab05-6d6faa91d035",
   "metadata": {},
   "source": [
    "## 2.4 Improve the model by argumenting the input data set"
   ]
  },
  {
   "cell_type": "markdown",
   "id": "c0e99f92-5094-4665-b6f8-14d69d0a1a60",
   "metadata": {},
   "source": [
    "# 3. Convolutional neural network for classification\n",
    "\n",
    "Convolutional neural network is suitable for image classification since it can accept 2D inputs. Our classification problem is simple and we do not need to extract complicated features thus we would only use 2 convolution layers.\n",
    "\n",
    "Changing from fully connected neural network to convolutional neuraal network we get:\n",
    "- local operation on neighborhoods\n",
    "- translation invariance\n",
    "- a lot fewer parameters: the number of the parameters of the model does not depend on the number of pixels in the image, but depends on the kernel size and the  number of convolution filters we use."
   ]
  },
  {
   "cell_type": "markdown",
   "id": "cd77471c-deb0-4096-9934-af806ec29ffd",
   "metadata": {},
   "source": [
    "## 3.1 buid and train a 2 layer CNN"
   ]
  },
  {
   "cell_type": "code",
   "execution_count": 75,
   "id": "13f19a30-711b-40bf-862a-19284bf4cdc5",
   "metadata": {},
   "outputs": [],
   "source": [
    "#build a 2 layer CNN\n",
    "#use the functional api for maxpooling layer since its has no parameters to be tracked by pytorch\n",
    "#input batch is of size B*3*32*32\n",
    "class Net(nn.Module):\n",
    "    def __init__(self,n_chans1=32):\n",
    "        super().__init__()\n",
    "        self.n_chans1=n_chans1\n",
    "        self.conv1=nn.Conv2d(3,n_chans1,kernel_size=3,padding=1)\n",
    "        self.conv2=nn.Conv2d(n_chans1,n_chans1//2,kernel_size=3, padding=1)\n",
    "        self.fc1=nn.Linear(8*8*n_chans1//2, 32)\n",
    "        self.fc2=nn.Linear(32,2)\n",
    "    def forward(self,x):\n",
    "        #input size=B*3*32*32\n",
    "        out=F.max_pool2d(torch.tanh(self.conv1(x)),2)\n",
    "        #out size: B*n_chans1*16*16\n",
    "        out=F.max_pool2d(torch.tanh(self.conv2(out)),2)\n",
    "        #out size:B*8*8*n_chans1//2\n",
    "        out=out.view(-1,8*8*self.n_chans1//2)\n",
    "        #out size:B*(8*8*n_chans1//2)\n",
    "        out=torch.tanh(self.fc1(out))\n",
    "        #out size: B*32\n",
    "        out=self.fc2(out)\n",
    "        #out size: B*2\n",
    "        #out is logits\n",
    "        return  out"
   ]
  },
  {
   "cell_type": "code",
   "execution_count": 76,
   "id": "e33839a0-537c-42ab-99e0-de08b3f0f489",
   "metadata": {},
   "outputs": [],
   "source": [
    "#define the training loop \n",
    "#put the images, labels and model to device\n",
    "def training_loop(train_loader, n_epochs, model, optimizer, loss_fn):\n",
    "    for epoch in range(1,n_epochs+1):\n",
    "        loss_train=0\n",
    "        for imgs, labels in train_loader:\n",
    "            imgs=imgs.to(device=device)\n",
    "            labels=labels.to(device=device)\n",
    "            batch_size=imgs.shape[0]\n",
    "            out=model(imgs)\n",
    "            loss = loss_fn(out,labels)\n",
    "            #do gradient descent for each batch\n",
    "            optimizer.zero_grad()\n",
    "            loss.backward()\n",
    "            optimizer.step()\n",
    "            #tensor.item() gets the value of the tensor\n",
    "            loss_train+=loss.item()\n",
    "        if epoch in [1,2,3,4] or epoch % 10 == 0:\n",
    "            print(f'current time: {datetime.datetime.now()}, current epoch: {epoch}, current loss: {loss_train/batch_size}, len {imgs.shape, labels.shape}')\n",
    "    "
   ]
  },
  {
   "cell_type": "code",
   "execution_count": 77,
   "id": "780fa536-57f4-4649-915f-208f4a82af37",
   "metadata": {},
   "outputs": [
    {
     "name": "stdout",
     "output_type": "stream",
     "text": [
      "Training on device: cpu.\n",
      "current time: 2024-10-29 22:08:14.043488, current epoch: 1, current loss: 0.2724644809961319, len (torch.Size([40, 3, 32, 32]), torch.Size([40]))\n",
      "current time: 2024-10-29 22:08:14.357969, current epoch: 2, current loss: 0.2653758689761162, len (torch.Size([40, 3, 32, 32]), torch.Size([40]))\n",
      "current time: 2024-10-29 22:08:14.643714, current epoch: 3, current loss: 0.25600565969944, len (torch.Size([40, 3, 32, 32]), torch.Size([40]))\n",
      "current time: 2024-10-29 22:08:14.906336, current epoch: 4, current loss: 0.24461873173713683, len (torch.Size([40, 3, 32, 32]), torch.Size([40]))\n",
      "current time: 2024-10-29 22:08:16.477143, current epoch: 10, current loss: 0.19895685613155364, len (torch.Size([40, 3, 32, 32]), torch.Size([40]))\n",
      "current time: 2024-10-29 22:08:18.974111, current epoch: 20, current loss: 0.1691896989941597, len (torch.Size([40, 3, 32, 32]), torch.Size([40]))\n",
      "current time: 2024-10-29 22:08:21.402347, current epoch: 30, current loss: 0.13463312089443208, len (torch.Size([40, 3, 32, 32]), torch.Size([40]))\n",
      "current time: 2024-10-29 22:08:23.745933, current epoch: 40, current loss: 0.09778186231851578, len (torch.Size([40, 3, 32, 32]), torch.Size([40]))\n",
      "current time: 2024-10-29 22:08:26.225683, current epoch: 50, current loss: 0.07642979174852371, len (torch.Size([40, 3, 32, 32]), torch.Size([40]))\n",
      "current time: 2024-10-29 22:08:29.004775, current epoch: 60, current loss: 0.06594708617776632, len (torch.Size([40, 3, 32, 32]), torch.Size([40]))\n",
      "current time: 2024-10-29 22:08:31.675068, current epoch: 70, current loss: 0.05538136400282383, len (torch.Size([40, 3, 32, 32]), torch.Size([40]))\n",
      "current time: 2024-10-29 22:08:34.152248, current epoch: 80, current loss: 0.05329885296523571, len (torch.Size([40, 3, 32, 32]), torch.Size([40]))\n",
      "current time: 2024-10-29 22:08:36.458875, current epoch: 90, current loss: 0.049734972137957814, len (torch.Size([40, 3, 32, 32]), torch.Size([40]))\n",
      "current time: 2024-10-29 22:08:38.809986, current epoch: 100, current loss: 0.047015117667615416, len (torch.Size([40, 3, 32, 32]), torch.Size([40]))\n"
     ]
    }
   ],
   "source": [
    "#define the device\n",
    "device=(torch.device('cuda') if torch.cuda.is_available() else torch.device('cpu'))\n",
    "print(f'Training on device: {device}.')\n",
    "\n",
    "#define the training batches\n",
    "train_loader=torch.utils.data.DataLoader(data_train, batch_size=64,shuffle=True)\n",
    "\n",
    "#instantiate the model\n",
    "model=Net(n_chans1=16).to(device=device)\n",
    "loss_fn=nn.CrossEntropyLoss()\n",
    "optimizer=optim.SGD(model.parameters(),lr=1e-2)\n",
    "\n",
    "#start training\n",
    "training_loop(train_loader=train_loader, model=model, n_epochs=100, optimizer=optimizer, loss_fn=loss_fn)"
   ]
  },
  {
   "cell_type": "code",
   "execution_count": 78,
   "id": "497d345e-f2bd-46c9-9cc9-db9e15850744",
   "metadata": {},
   "outputs": [
    {
     "name": "stdout",
     "output_type": "stream",
     "text": [
      "Net(\n",
      "  (conv1): Conv2d(3, 16, kernel_size=(3, 3), stride=(1, 1), padding=(1, 1))\n",
      "  (conv2): Conv2d(16, 8, kernel_size=(3, 3), stride=(1, 1), padding=(1, 1))\n",
      "  (fc1): Linear(in_features=512, out_features=32, bias=True)\n",
      "  (fc2): Linear(in_features=32, out_features=2, bias=True)\n",
      ")\n"
     ]
    }
   ],
   "source": [
    "#print the model\n",
    "print(model)"
   ]
  },
  {
   "cell_type": "markdown",
   "id": "dfe90cc7-c85a-47e2-bab1-835a05a78c76",
   "metadata": {},
   "source": [
    "## 3.2 measuring accuracy on the training and validation data set\n",
    "\n",
    "We use a more intuitive concept accuracy(than loss) to measure the performance of the trained model."
   ]
  },
  {
   "cell_type": "code",
   "execution_count": 79,
   "id": "934bdae2-6d5d-4919-975b-ce1af71f3688",
   "metadata": {},
   "outputs": [],
   "source": [
    "#define a function to compute the training and validation accuracy\n",
    "def accuracy(train_loader,val_loader,model):\n",
    "    correct,total=0,0\n",
    "    #compute accuracy  for training and validation respectively\n",
    "    for name, loader in [('train', train_loader),('validation',val_loader)]:\n",
    "        #we do not redquire pytorch to track the gradients of the parameter tensors\n",
    "        with torch.no_grad():\n",
    "            for imgs, labels in loader:\n",
    "                outs=model(imgs)\n",
    "                predicted_values,predicted_labels=torch.max(outs,dim=1)\n",
    "                correct += int((predicted_labels==labels).sum())\n",
    "                total+=labels.shape[0]\n",
    "            print(f'{name} accuracy: {correct/total:.3f}.')"
   ]
  },
  {
   "cell_type": "code",
   "execution_count": 80,
   "id": "12c4e330-1a39-4348-837e-ccddc218cc58",
   "metadata": {},
   "outputs": [
    {
     "name": "stdout",
     "output_type": "stream",
     "text": [
      "train accuracy: 0.959.\n",
      "validation accuracy: 0.955.\n"
     ]
    }
   ],
   "source": [
    "#define the training and validation loader\n",
    "train_loader=torch.utils.data.DataLoader(data_train, batch_size=64, shuffle=False)\n",
    "val_loader=torch.utils.data.DataLoader(data_val, batch_size=64, shuffle=False)\n",
    "\n",
    "#compute the accuracy\n",
    "accuracy(train_loader=train_loader, val_loader=val_loader,model=model)"
   ]
  },
  {
   "cell_type": "markdown",
   "id": "95de41c5-23ce-4644-90f6-0f692811fd75",
   "metadata": {},
   "source": [
    "## 3.3 save the trained model and load it\n",
    "\n",
    "Since the performance of our trained model is good, we can save the model for future use."
   ]
  },
  {
   "cell_type": "code",
   "execution_count": 81,
   "id": "d42a947a-1e15-4185-84e8-3f5c03179f02",
   "metadata": {},
   "outputs": [],
   "source": [
    "#save all the parameters of the trained model to a file\n",
    "torch.save(model.state_dict(),'./apples_vs_oranges.pt')"
   ]
  },
  {
   "cell_type": "markdown",
   "id": "5a166009-4beb-4c89-bfcf-a22bee2c1e75",
   "metadata": {},
   "source": [
    "The .pt file only contains the parameters of the model but no structure of the model. Therefore, when we need to load back the model, we first need to instantiate the model and then load the .pt file containing the weights of the model to the model instance using the 'model.load_state_dict()' methos"
   ]
  },
  {
   "cell_type": "code",
   "execution_count": 82,
   "id": "b7da9434-451b-44ee-8ac9-86d09501851b",
   "metadata": {},
   "outputs": [
    {
     "data": {
      "text/plain": [
       "<All keys matched successfully>"
      ]
     },
     "execution_count": 82,
     "metadata": {},
     "output_type": "execute_result"
    }
   ],
   "source": [
    "#load back the stored model\n",
    "loaded_model = Net(n_chans1=16)\n",
    "loaded_model.load_state_dict(torch.load('./apples_vs_oranges.pt'))"
   ]
  },
  {
   "cell_type": "code",
   "execution_count": 83,
   "id": "302211b2-f7f0-4c69-93ce-193313482aa2",
   "metadata": {},
   "outputs": [
    {
     "data": {
      "text/plain": [
       "[432, 16, 1152, 8, 16384, 32, 64, 2]"
      ]
     },
     "execution_count": 83,
     "metadata": {},
     "output_type": "execute_result"
    }
   ],
   "source": [
    "#check the parameters of the loaded model\n",
    "[p.numel() for p in loaded_model.parameters()]"
   ]
  },
  {
   "cell_type": "markdown",
   "id": "29fe6fb8-c39b-47de-9ed7-6f8825a8da21",
   "metadata": {},
   "source": [
    "## 3.3 improve the model by regularization\n",
    "\n",
    "There are mainly 3 ways to improve model generalization and reduce overfitting.\n",
    "- L1, L2 regularization: adding some penalty term to the loss function. L2 penalty is the sum of the square of the parameters of the model, which is also called weight decay. As its name indicate, L2 penalty has the effect of modifying the weights by some proportion of its current value. L2 regularization will restrict the size of the parameters and make them small. L1 regularization is adding the sum of the absolute value of the parameters as penalty. The effect is that it can make some parameters to be zero and thus has the effect of features selection.\n",
    "- Dropout: add dropout layers between the convolution layers. The effect is to randomly quiet some neurons for each epoch.\n",
    "- Batch normalization: add batch normalization before activation layer can reduce the situation that the input of the activation layer lies in the satuation portion of the activation layer."
   ]
  },
  {
   "cell_type": "code",
   "execution_count": 84,
   "id": "7fe2c78f-69b1-46a6-a579-8ab1c7cc2d11",
   "metadata": {},
   "outputs": [],
   "source": [
    "#regularization with batch normalization\n",
    "class Net_batchnorm(nn.Module):\n",
    "    def __init__(self,n_chans1):\n",
    "        super().__init__()\n",
    "        self.n_chans1=n_chans1\n",
    "        self.conv1=nn.Conv2d(3,n_chans1,kernel_size=3,padding=1)\n",
    "        self.conv1_batchnorm=nn.BatchNorm2d(num_features=n_chans1)\n",
    "        self.conv2=nn.Conv2d(n_chans1,n_chans1//2, kernel_size=3,padding=1)\n",
    "        self.conv2_batchnorm=nn.BatchNorm2d(num_features=n_chans1//2)\n",
    "        self.fc1=nn.Linear(8*8*self.n_chans1//2,32)\n",
    "        self.fc2=nn.Linear(32,2)\n",
    "        \n",
    "    def forward(self,x):\n",
    "        out = self.conv1_batchnorm(self.conv1(x))\n",
    "        out = F.max_pool2d(torch.tanh(out),2)\n",
    "        out = self.conv2_batchnorm(self.conv2(out))\n",
    "        out = F.max_pool2d(torch.tanh(out),2)\n",
    "        out=out.view(-1,8*8*self.n_chans1//2)\n",
    "        out=torch.tanh(self.fc1(out))\n",
    "        out=self.fc2(out)\n",
    "        return out"
   ]
  },
  {
   "cell_type": "code",
   "execution_count": 85,
   "id": "9ee8203c-2811-4b98-8933-cf0b4a486d0c",
   "metadata": {},
   "outputs": [
    {
     "name": "stdout",
     "output_type": "stream",
     "text": [
      "Training on device: cpu.\n",
      "current time: 2024-10-29 22:08:39.453748, current epoch: 1, current loss: 0.25530684888362887, len (torch.Size([40, 3, 32, 32]), torch.Size([40]))\n",
      "current time: 2024-10-29 22:08:39.788136, current epoch: 2, current loss: 0.22143576741218568, len (torch.Size([40, 3, 32, 32]), torch.Size([40]))\n",
      "current time: 2024-10-29 22:08:40.113240, current epoch: 3, current loss: 0.20212458595633506, len (torch.Size([40, 3, 32, 32]), torch.Size([40]))\n",
      "current time: 2024-10-29 22:08:40.440538, current epoch: 4, current loss: 0.18939562365412713, len (torch.Size([40, 3, 32, 32]), torch.Size([40]))\n",
      "current time: 2024-10-29 22:08:42.439344, current epoch: 10, current loss: 0.1271015252918005, len (torch.Size([40, 3, 32, 32]), torch.Size([40]))\n",
      "current time: 2024-10-29 22:08:45.970009, current epoch: 20, current loss: 0.08022400457412004, len (torch.Size([40, 3, 32, 32]), torch.Size([40]))\n",
      "current time: 2024-10-29 22:08:49.211119, current epoch: 30, current loss: 0.07161928173154593, len (torch.Size([40, 3, 32, 32]), torch.Size([40]))\n",
      "current time: 2024-10-29 22:08:52.134879, current epoch: 40, current loss: 0.060315273329615594, len (torch.Size([40, 3, 32, 32]), torch.Size([40]))\n",
      "current time: 2024-10-29 22:08:55.089188, current epoch: 50, current loss: 0.05144658051431179, len (torch.Size([40, 3, 32, 32]), torch.Size([40]))\n",
      "current time: 2024-10-29 22:08:58.387496, current epoch: 60, current loss: 0.04764881702139974, len (torch.Size([40, 3, 32, 32]), torch.Size([40]))\n",
      "current time: 2024-10-29 22:09:02.562177, current epoch: 70, current loss: 0.0495061400346458, len (torch.Size([40, 3, 32, 32]), torch.Size([40]))\n",
      "current time: 2024-10-29 22:09:06.399553, current epoch: 80, current loss: 0.04738781983032823, len (torch.Size([40, 3, 32, 32]), torch.Size([40]))\n",
      "current time: 2024-10-29 22:09:09.943166, current epoch: 90, current loss: 0.029767911601811647, len (torch.Size([40, 3, 32, 32]), torch.Size([40]))\n",
      "current time: 2024-10-29 22:09:13.513584, current epoch: 100, current loss: 0.02321581928990781, len (torch.Size([40, 3, 32, 32]), torch.Size([40]))\n"
     ]
    }
   ],
   "source": [
    "#define the device\n",
    "device=(torch.device('cuda') if torch.cuda.is_available() else torch.device('cpu'))\n",
    "print(f'Training on device: {device}.')\n",
    "\n",
    "#define the training batches\n",
    "train_loader=torch.utils.data.DataLoader(data_train, batch_size=64,shuffle=True)\n",
    "\n",
    "#instantiate the model\n",
    "model=Net_batchnorm(n_chans1=16).to(device=device)\n",
    "loss_fn=nn.CrossEntropyLoss()\n",
    "optimizer=optim.SGD(model.parameters(),lr=1e-2)\n",
    "\n",
    "#start training\n",
    "training_loop(train_loader=train_loader, model=model, n_epochs=100, optimizer=optimizer, loss_fn=loss_fn)"
   ]
  },
  {
   "cell_type": "code",
   "execution_count": 86,
   "id": "056d9fb3-4dac-4d52-ba13-7f3be5e42ddb",
   "metadata": {},
   "outputs": [
    {
     "name": "stdout",
     "output_type": "stream",
     "text": [
      "train accuracy: 0.993.\n",
      "validation accuracy: 0.979.\n"
     ]
    }
   ],
   "source": [
    "#define the training and validation loader\n",
    "train_loader=torch.utils.data.DataLoader(data_train, batch_size=64, shuffle=False)\n",
    "val_loader=torch.utils.data.DataLoader(data_val, batch_size=64, shuffle=False)\n",
    "\n",
    "#compute the accuracy\n",
    "accuracy(train_loader=train_loader, val_loader=val_loader,model=model)"
   ]
  },
  {
   "cell_type": "markdown",
   "id": "714ec18c-8aa1-4471-a330-96362fa84fd8",
   "metadata": {},
   "source": [
    "We can see from above that adding a batch normalization does improve our model performance."
   ]
  }
 ],
 "metadata": {
  "kernelspec": {
   "display_name": "Python 3 (ipykernel)",
   "language": "python",
   "name": "python3"
  },
  "language_info": {
   "codemirror_mode": {
    "name": "ipython",
    "version": 3
   },
   "file_extension": ".py",
   "mimetype": "text/x-python",
   "name": "python",
   "nbconvert_exporter": "python",
   "pygments_lexer": "ipython3",
   "version": "3.10.15"
  }
 },
 "nbformat": 4,
 "nbformat_minor": 5
}
